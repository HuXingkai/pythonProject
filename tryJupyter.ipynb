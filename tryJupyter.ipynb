{
 "cells": [
  {
   "cell_type": "code",
   "execution_count": null,
   "metadata": {},
   "outputs": [],
   "source": [
    "# import json\n",
    "def get_stored_username():\n",
    "    filename='username.json'\n",
    "    try:\n",
    "        with open(filename) as file:\n",
    "             username=json.load(file)\n",
    "    except FileNotFoundError:\n",
    "        return None\n",
    "    else:\n",
    "        return username\n",
    "def get_new_username():\n",
    "    \"\"\"提示用户输入用户名\"\"\"\n",
    "    username = input(\"What is your name? \")\n",
    "    filename = 'username.json'\n",
    "    with open(filename, 'w') as file_j:\n",
    "        json.dump(username, file_j)\n",
    "    return username\n",
    "def greet_user():\n",
    "    '''问候用户，并输出名字'''\n",
    "    username=get_stored_username()\n",
    "    if username:\n",
    "        print('Welcome back'+username)\n",
    "    else:\n",
    "        username=get_new_username()\n",
    "        print('We will remember you')\n",
    "        \n",
    "greet_user()"
   ]
  }
 ],
 "metadata": {
  "kernelspec": {
   "display_name": "Python 3",
   "language": "python",
   "name": "python3"
  },
  "language_info": {
   "codemirror_mode": {
    "name": "ipython",
    "version": 3
   },
   "file_extension": ".py",
   "mimetype": "text/x-python",
   "name": "python",
   "nbconvert_exporter": "python",
   "pygments_lexer": "ipython3",
   "version": "3.6.2"
  }
 },
 "nbformat": 4,
 "nbformat_minor": 2
}
